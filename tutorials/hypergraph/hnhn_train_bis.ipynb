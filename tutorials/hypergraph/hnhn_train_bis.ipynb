{
 "cells": [
  {
   "cell_type": "markdown",
   "metadata": {},
   "source": [
    "# Train a Hypergraph Network with Hyperedge Neurons (HNHN)\n",
    "\n",
    "In this notebook, we will create and train a Hypergraph Network with Hyperedge Neurons in the hypergraph domain. This method is introduced in the paper [HNHN: Hypergraph Networks with Hyperedge Neurons](https://arxiv.org/abs/2006.12278) by Dong et al. We will use a benchmark dataset, CiteSeer, a collection of 1498 academic papers and 1107 authors, to do the task of node classification. There are 6 categories into which the papers are classified.\n",
    "\n",
    "Each document is initially represented as a binary vector of length 3703, standing for a unique subset of the words within the papers, in which a value of 1 means the presence of its corresponding word in the paper."
   ]
  },
  {
   "cell_type": "code",
   "execution_count": 1,
   "metadata": {},
   "outputs": [],
   "source": [
    "import torch\n",
    "import matplotlib.pyplot as plt\n",
    "from sklearn.metrics import accuracy_score\n",
    "from sklearn.manifold import TSNE\n",
    "from topomodelx.nn.hypergraph.hnhn_layer_bis import HNHNLayer\n",
    "from torch_geometric.data import Data\n",
    "from torch_geometric.transforms import RandomNodeSplit\n",
    "from topomodelx.nn.hypergraph.hnhn import HNHN"
   ]
  },
  {
   "cell_type": "markdown",
   "metadata": {},
   "source": [
    "If GPU's are available, we will make use of them. Otherwise, this will run on CPU."
   ]
  },
  {
   "cell_type": "code",
   "execution_count": 2,
   "metadata": {},
   "outputs": [
    {
     "name": "stdout",
     "output_type": "stream",
     "text": [
      "cpu\n"
     ]
    }
   ],
   "source": [
    "device = torch.device(\"cuda\" if torch.cuda.is_available() else \"cpu\")\n",
    "print(device)"
   ]
  },
  {
   "cell_type": "markdown",
   "metadata": {},
   "source": [
    "# Pre-processing\n",
    "\n",
    "Here we download the dataset from the official repo of the paper. It contains initial representation of nodes, the incidence matrix and the category labels. The incidence matrix or $B_1$ is of shape $n_\\text{nodes} \\times n_\\text{edges}$.\n",
    "\n",
    "We also split the data into train and test splits according to the paper."
   ]
  },
  {
   "cell_type": "code",
   "execution_count": null,
   "metadata": {},
   "outputs": [],
   "source": [
    "! wget https://github.com/twistedcubic/HNHN/raw/master/data/citeseer6cls3703.pt"
   ]
  },
  {
   "cell_type": "code",
   "execution_count": 3,
   "metadata": {},
   "outputs": [],
   "source": [
    "data = torch.load(\"citeseer6cls3703.pt\")\n",
    "dataset = Data(\n",
    "    x=torch.from_numpy(data[\"paper_X\"]).to(torch.float),\n",
    "    incidence_1=torch.sparse_coo_tensor(\n",
    "        indices=torch.LongTensor(data[\"paper_author\"]).T,\n",
    "        values=torch.ones(len(data[\"paper_author\"]), dtype=torch.long),\n",
    "    ),\n",
    "    y=torch.LongTensor(data[\"classes\"]),\n",
    ")\n",
    "train_test_splitter = RandomNodeSplit(num_test=0.85, num_val=0)\n",
    "dataset = train_test_splitter(dataset).to(device)"
   ]
  },
  {
   "cell_type": "markdown",
   "metadata": {},
   "source": [
    "# Create the Neural Network\n",
    "\n",
    "Using the `HNHNLayer` class, we create a neural network with stacked layers."
   ]
  },
  {
   "cell_type": "code",
   "execution_count": 7,
   "metadata": {},
   "outputs": [],
   "source": [
    "class HNHN(torch.nn.Module):\n",
    "    \"\"\"Neural network implementation of HNHN\n",
    "\n",
    "    Parameters\n",
    "    ---------\n",
    "    in_features : int\n",
    "        Dimension of input features\n",
    "    hidden_features : int\n",
    "        Dimension of hidden features\n",
    "    incidence_1: torch.sparse.Tensor\n",
    "        Incidence matrix of shape [n_nodes, n_hyperedges]\n",
    "    num_classes: int\n",
    "        Number of classes\n",
    "    n_layer : 2\n",
    "        Number of HNHNLayer layers.\n",
    "    dropout_rate: 0.3\n",
    "    \"\"\"\n",
    "\n",
    "    def __init__(\n",
    "        self,\n",
    "        in_features,\n",
    "        hidden_features,\n",
    "        incidence_1,\n",
    "        num_classes,\n",
    "        n_layer=2,\n",
    "        dropout_rate=0.3,\n",
    "    ):\n",
    "        super().__init__()\n",
    "        self.to_hidden_linear = torch.nn.Linear(in_features, hidden_features)\n",
    "        self.layers = torch.nn.Sequential(\n",
    "            *[\n",
    "                HNHNLayer(\n",
    "                    hidden_features,\n",
    "                    incidence_1,\n",
    "                    normalization_param_alpha=-1.5,\n",
    "                    normalization_param_beta=-0.5,\n",
    "                )\n",
    "                for _ in range(n_layer)\n",
    "            ]\n",
    "        )\n",
    "        self.dropout = torch.nn.Dropout(dropout_rate)\n",
    "        self.to_categories_linear = torch.nn.Linear(hidden_features, num_classes)\n",
    "\n",
    "    def forward(self, x_0):\n",
    "        \"\"\"Forward computation through layers.\n",
    "\n",
    "        Parameters\n",
    "        ---------\n",
    "        x_0 : torch.Tensor\n",
    "            Node features with shape [n_nodes, in_features]\n",
    "\n",
    "        Returns\n",
    "        --------\n",
    "        y_pred : torch.Tensor\n",
    "            Predicted logits with shape [n_nodes, num_classes]\n",
    "        x_1: torch.Tensor\n",
    "            Final hidden representation of hyperedges with shape [n_hyperedges, hidden_features]\n",
    "        \"\"\"\n",
    "        x_1 = 0\n",
    "        x_0 = self.to_hidden_linear(x_0)\n",
    "        for i, layer in enumerate(self.layers):\n",
    "            x_0, x_1 = layer(x_0)\n",
    "            if i != len(self.layers) - 1:\n",
    "                x_0, x_1 = self.dropout(x_0), self.dropout(x_1)\n",
    "\n",
    "        return self.to_categories_linear(x_0), x_1"
   ]
  },
  {
   "cell_type": "markdown",
   "metadata": {},
   "source": [
    "# Train the Neural Network\n",
    "\n",
    "We then specify the hyperparameters and construct the model, the loss, optimizer and a LR scheduler according to the paper."
   ]
  },
  {
   "cell_type": "code",
   "execution_count": 8,
   "metadata": {},
   "outputs": [],
   "source": [
    "in_features = 3703\n",
    "hidden_features = 400\n",
    "num_classes = 6\n",
    "n_layers = 1\n",
    "dropout_rate = 0.3\n",
    "initial_lr = 0.04\n",
    "\n",
    "model = HNHN(\n",
    "    in_features,\n",
    "    hidden_features,\n",
    "    dataset[\"incidence_1\"],\n",
    "    num_classes,\n",
    "    n_layers,\n",
    "    dropout_rate,\n",
    ").to(device)\n",
    "optimizer = torch.optim.Adam(model.parameters(), lr=initial_lr)\n",
    "loss_fn = torch.nn.CrossEntropyLoss()\n",
    "lr_scheduler = torch.optim.lr_scheduler.StepLR(optimizer, 100, gamma=0.51)"
   ]
  },
  {
   "cell_type": "markdown",
   "metadata": {},
   "source": [
    "Now it's time to train the model, looping over the network for a low amount of epochs. We keep training minimal for the purpose of rapid testing."
   ]
  },
  {
   "cell_type": "code",
   "execution_count": null,
   "metadata": {},
   "outputs": [],
   "source": [
    "train_y_true = dataset[\"y\"][dataset[\"train_mask\"]]\n",
    "model.train()\n",
    "for epoch in range(50):\n",
    "    optimizer.zero_grad()\n",
    "    y_pred_logits, _ = model(dataset[\"x\"])\n",
    "    loss = loss_fn(y_pred_logits[dataset[\"train_mask\"]], train_y_true)\n",
    "    loss.backward()\n",
    "    optimizer.step()\n",
    "    y_pred = y_pred_logits.argmax(dim=-1)\n",
    "    print(\n",
    "        f\"Epoch: {epoch + 1} loss: {loss.item():.4f} acc: {accuracy_score(train_y_true, y_pred[dataset['train_mask']]):.2f}\"\n",
    "    )\n",
    "    lr_scheduler.step()"
   ]
  },
  {
   "cell_type": "markdown",
   "metadata": {},
   "source": [
    "We then evaluate the model against the test data."
   ]
  },
  {
   "cell_type": "code",
   "execution_count": null,
   "metadata": {},
   "outputs": [],
   "source": [
    "model.eval()\n",
    "with torch.no_grad():\n",
    "    y_pred_logits, _ = model(dataset[\"x\"])\n",
    "test_y_true = dataset[\"y\"][dataset[\"test_mask\"]]\n",
    "loss = loss_fn(y_pred_logits[dataset[\"test_mask\"]], test_y_true)\n",
    "print(f\"Test loss: {loss.item():.4f}\")\n",
    "y_pred = y_pred_logits.argmax(dim=-1)\n",
    "print(f\"Test accuracy: {accuracy_score(test_y_true, y_pred[dataset['test_mask']]):.2f}\")"
   ]
  },
  {
   "cell_type": "markdown",
   "metadata": {},
   "source": [
    "Finally, it's worth it to visualize the learned hidden representations after training the model."
   ]
  },
  {
   "cell_type": "code",
   "execution_count": null,
   "metadata": {},
   "outputs": [],
   "source": [
    "tsne = TSNE(n_components=2)\n",
    "model.eval()\n",
    "with torch.no_grad():\n",
    "    x_0, _ = model.layers(model.to_hidden_linear(dataset[\"x\"]))\n",
    "x_0_train = tsne.fit_transform(x_0[dataset[\"train_mask\"]])\n",
    "x_0_test = tsne.fit_transform(x_0[dataset[\"test_mask\"]])\n",
    "f, (ax1, ax2) = plt.subplots(1, 2)\n",
    "f.suptitle(\"Learned hidden representations of graph nodes\")\n",
    "ax1.scatter(x_0_train[:, 0], x_0_train[:, 1], c=dataset[\"y\"][dataset[\"train_mask\"]])\n",
    "ax1.set_title(\"Train data\")\n",
    "\n",
    "ax2.scatter(x_0_test[:, 0], x_0_test[:, 1], c=dataset[\"y\"][dataset[\"test_mask\"]])\n",
    "ax2.set_title(\"Test data\")"
   ]
  }
 ],
 "metadata": {
  "kernelspec": {
   "display_name": "Python 3 (ipykernel)",
   "language": "python",
   "name": "python3"
  },
  "language_info": {
   "codemirror_mode": {
    "name": "ipython",
    "version": 3
   },
   "file_extension": ".py",
   "mimetype": "text/x-python",
   "name": "python",
   "nbconvert_exporter": "python",
   "pygments_lexer": "ipython3",
   "version": "3.11.3"
  },
  "orig_nbformat": 4
 },
 "nbformat": 4,
 "nbformat_minor": 2
}
