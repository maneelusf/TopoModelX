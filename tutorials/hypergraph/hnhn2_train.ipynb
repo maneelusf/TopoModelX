{
 "cells": [
  {
   "cell_type": "markdown",
   "metadata": {},
   "source": [
    "# Train a Hypergraph Network with Hyperedge Neurons (HNHN)\n",
    "\n",
    "In this notebook, we will create and train a Hypergraph Network with Hyperedge Neurons in the hypergraph domain. This method is introduced in the paper [HNHN: Hypergraph Networks with Hyperedge Neurons](https://arxiv.org/abs/2006.12278) by Dong et al. We will use a benchmark dataset, CiteSeer, a collection of 1498 academic papers and 1107 authors, to do the task of node classification. There are 6 categories into which the papers are classified.\n",
    "\n",
    "Each document is initially represented as a binary vector of length 3703, standing for a unique subset of the words within the papers, in which a value of 1 means the presence of its corresponding word in the paper."
   ]
  },
  {
   "cell_type": "code",
   "execution_count": null,
   "metadata": {},
   "outputs": [],
   "source": [
    "import torch\n",
    "import matplotlib.pyplot as plt\n",
    "from sklearn.metrics import accuracy_score\n",
    "from sklearn.manifold import TSNE\n",
    "from topomodelx.nn.hypergraph.hnhn2_layer import HNHN2Layer\n",
    "from topomodelx.nn.hypergraph.hnhn2 import HNHN2\n",
    "\n",
    "from torch_geometric.data import Data\n",
    "from torch_geometric.transforms import RandomNodeSplit"
   ]
  },
  {
   "cell_type": "markdown",
   "metadata": {},
   "source": [
    "If GPU's are available, we will make use of them. Otherwise, this will run on CPU."
   ]
  },
  {
   "cell_type": "code",
   "execution_count": 2,
   "metadata": {},
   "outputs": [
    {
     "name": "stdout",
     "output_type": "stream",
     "text": [
      "cpu\n"
     ]
    }
   ],
   "source": [
    "device = torch.device(\"cuda\" if torch.cuda.is_available() else \"cpu\")\n",
    "print(device)"
   ]
  },
  {
   "cell_type": "markdown",
   "metadata": {},
   "source": [
    "# Pre-processing\n",
    "\n",
    "Here we download the dataset from the official repo of the paper. It contains initial representation of nodes, the incidence matrix and the category labels. The incidence matrix or $B_1$ is of shape $n_\\text{nodes} \\times n_\\text{edges}$.\n",
    "\n",
    "We also split the data into train and test splits according to the paper."
   ]
  },
  {
   "cell_type": "code",
   "execution_count": null,
   "metadata": {},
   "outputs": [],
   "source": [
    "! wget https://github.com/twistedcubic/HNHN/raw/master/data/citeseer6cls3703.pt"
   ]
  },
  {
   "cell_type": "code",
   "execution_count": 3,
   "metadata": {},
   "outputs": [],
   "source": [
    "data = torch.load(\"citeseer6cls3703.pt\")\n",
    "dataset = Data(\n",
    "    x=torch.from_numpy(data[\"paper_X\"]).to(torch.float),\n",
    "    incidence_1=torch.sparse_coo_tensor(\n",
    "        indices=torch.LongTensor(data[\"paper_author\"]).T,\n",
    "        values=torch.ones(len(data[\"paper_author\"]), dtype=torch.long),\n",
    "    ),\n",
    "    y=torch.LongTensor(data[\"classes\"]),\n",
    ")\n",
    "train_test_splitter = RandomNodeSplit(num_test=0.85, num_val=0)\n",
    "dataset = train_test_splitter(dataset).to(device)"
   ]
  },
  {
   "cell_type": "code",
   "execution_count": 4,
   "metadata": {},
   "outputs": [],
   "source": []
  },
  {
   "cell_type": "markdown",
   "metadata": {},
   "source": [
    "# Train the Neural Network\n",
    "\n",
    "We then specify the hyperparameters and construct the model, the loss, optimizer and a LR scheduler according to the paper."
   ]
  },
  {
   "cell_type": "code",
   "execution_count": 5,
   "metadata": {},
   "outputs": [],
   "source": [
    "in_features = 3703\n",
    "hidden_features = 400\n",
    "num_classes = 6\n",
    "n_layers = 1\n",
    "dropout_rate = 0.3\n",
    "initial_lr = 0.04\n",
    "\n",
    "model = HNHN2(\n",
    "    in_features,\n",
    "    hidden_features,\n",
    "    dataset[\"incidence_1\"],\n",
    "    num_classes,\n",
    "    n_layers,\n",
    "    dropout_rate,\n",
    ").to(device)\n",
    "optimizer = torch.optim.Adam(model.parameters(), lr=initial_lr)\n",
    "loss_fn = torch.nn.CrossEntropyLoss()\n",
    "lr_scheduler = torch.optim.lr_scheduler.StepLR(optimizer, 100, gamma=0.51)"
   ]
  },
  {
   "cell_type": "markdown",
   "metadata": {},
   "source": [
    "Now it's time to train the model, looping over the network for a low amount of epochs. We keep training minimal for the purpose of rapid testing."
   ]
  },
  {
   "cell_type": "code",
   "execution_count": 6,
   "metadata": {},
   "outputs": [
    {
     "name": "stdout",
     "output_type": "stream",
     "text": [
      "Epoch: 1 loss: 1.7889 acc: 0.19\n",
      "Epoch: 2 loss: 11.6347 acc: 0.41\n",
      "Epoch: 3 loss: 67.6458 acc: 0.19\n",
      "Epoch: 4 loss: 21.9118 acc: 0.19\n",
      "Epoch: 5 loss: 7.5491 acc: 0.40\n",
      "Epoch: 6 loss: 2.7203 acc: 0.46\n",
      "Epoch: 7 loss: 25.5956 acc: 0.12\n",
      "Epoch: 8 loss: 1.4068 acc: 0.66\n",
      "Epoch: 9 loss: 0.4721 acc: 0.86\n",
      "Epoch: 10 loss: 0.7964 acc: 0.86\n",
      "Epoch: 11 loss: 0.3502 acc: 0.93\n",
      "Epoch: 12 loss: 0.3431 acc: 0.95\n",
      "Epoch: 13 loss: 0.5075 acc: 0.93\n",
      "Epoch: 14 loss: 1.0124 acc: 0.83\n",
      "Epoch: 15 loss: 0.2914 acc: 0.95\n",
      "Epoch: 16 loss: 0.9682 acc: 0.89\n",
      "Epoch: 17 loss: 0.2804 acc: 0.95\n",
      "Epoch: 18 loss: 0.2231 acc: 0.97\n",
      "Epoch: 19 loss: 0.6046 acc: 0.91\n",
      "Epoch: 20 loss: 0.0786 acc: 0.98\n",
      "Epoch: 21 loss: 0.2483 acc: 0.94\n",
      "Epoch: 22 loss: 0.2452 acc: 0.93\n",
      "Epoch: 23 loss: 0.2004 acc: 0.96\n",
      "Epoch: 24 loss: 0.2019 acc: 0.95\n",
      "Epoch: 25 loss: 0.0568 acc: 0.99\n",
      "Epoch: 26 loss: 0.1139 acc: 0.98\n",
      "Epoch: 27 loss: 0.0559 acc: 0.98\n",
      "Epoch: 28 loss: 0.0248 acc: 0.99\n",
      "Epoch: 29 loss: 0.0396 acc: 0.98\n",
      "Epoch: 30 loss: 0.0560 acc: 0.98\n",
      "Epoch: 31 loss: 0.0219 acc: 0.99\n",
      "Epoch: 32 loss: 0.0217 acc: 0.99\n",
      "Epoch: 33 loss: 0.0328 acc: 0.99\n",
      "Epoch: 34 loss: 0.0447 acc: 0.98\n",
      "Epoch: 35 loss: 0.0180 acc: 0.99\n",
      "Epoch: 36 loss: 0.0220 acc: 0.99\n",
      "Epoch: 37 loss: 0.0232 acc: 0.99\n",
      "Epoch: 38 loss: 0.0241 acc: 0.99\n",
      "Epoch: 39 loss: 0.0248 acc: 0.99\n",
      "Epoch: 40 loss: 0.0130 acc: 0.99\n",
      "Epoch: 41 loss: 0.0239 acc: 0.99\n",
      "Epoch: 42 loss: 0.0240 acc: 0.99\n",
      "Epoch: 43 loss: 0.0284 acc: 0.98\n",
      "Epoch: 44 loss: 0.0561 acc: 0.99\n",
      "Epoch: 45 loss: 0.0295 acc: 0.99\n",
      "Epoch: 46 loss: 0.0163 acc: 0.99\n",
      "Epoch: 47 loss: 0.0239 acc: 0.99\n",
      "Epoch: 48 loss: 0.0195 acc: 0.99\n",
      "Epoch: 49 loss: 0.0323 acc: 0.99\n",
      "Epoch: 50 loss: 0.0406 acc: 0.98\n"
     ]
    }
   ],
   "source": [
    "train_y_true = dataset[\"y\"][dataset[\"train_mask\"]]\n",
    "model.train()\n",
    "for epoch in range(50):\n",
    "    optimizer.zero_grad()\n",
    "    y_pred_logits, _ = model(dataset[\"x\"])\n",
    "    loss = loss_fn(y_pred_logits[dataset[\"train_mask\"]], train_y_true)\n",
    "    loss.backward()\n",
    "    optimizer.step()\n",
    "    y_pred = y_pred_logits.argmax(dim=-1)\n",
    "    print(\n",
    "        f\"Epoch: {epoch + 1} loss: {loss.item():.4f} acc: {accuracy_score(train_y_true, y_pred[dataset['train_mask']]):.2f}\"\n",
    "    )\n",
    "    lr_scheduler.step()"
   ]
  },
  {
   "cell_type": "markdown",
   "metadata": {},
   "source": [
    "We then evaluate the model against the test data."
   ]
  },
  {
   "cell_type": "code",
   "execution_count": 7,
   "metadata": {},
   "outputs": [
    {
     "name": "stdout",
     "output_type": "stream",
     "text": [
      "Test loss: 10.8441\n",
      "Test accuracy: 0.57\n"
     ]
    }
   ],
   "source": [
    "model.eval()\n",
    "with torch.no_grad():\n",
    "    y_pred_logits, _ = model(dataset[\"x\"])\n",
    "test_y_true = dataset[\"y\"][dataset[\"test_mask\"]]\n",
    "loss = loss_fn(y_pred_logits[dataset[\"test_mask\"]], test_y_true)\n",
    "print(f\"Test loss: {loss.item():.4f}\")\n",
    "y_pred = y_pred_logits.argmax(dim=-1)\n",
    "print(f\"Test accuracy: {accuracy_score(test_y_true, y_pred[dataset['test_mask']]):.2f}\")"
   ]
  },
  {
   "cell_type": "markdown",
   "metadata": {},
   "source": [
    "Finally, it's worth it to visualize the learned hidden representations after training the model."
   ]
  },
  {
   "cell_type": "code",
   "execution_count": 8,
   "metadata": {},
   "outputs": [
    {
     "name": "stderr",
     "output_type": "stream",
     "text": [
      "/home/sadra-barikbin/.local/lib/python3.8/site-packages/sklearn/manifold/_t_sne.py:795: FutureWarning: The default initialization in TSNE will change from 'random' to 'pca' in 1.2.\n",
      "  warnings.warn(\n",
      "/home/sadra-barikbin/.local/lib/python3.8/site-packages/sklearn/manifold/_t_sne.py:805: FutureWarning: The default learning rate in TSNE will change from 200.0 to 'auto' in 1.2.\n",
      "  warnings.warn(\n",
      "/home/sadra-barikbin/.local/lib/python3.8/site-packages/sklearn/manifold/_t_sne.py:795: FutureWarning: The default initialization in TSNE will change from 'random' to 'pca' in 1.2.\n",
      "  warnings.warn(\n",
      "/home/sadra-barikbin/.local/lib/python3.8/site-packages/sklearn/manifold/_t_sne.py:805: FutureWarning: The default learning rate in TSNE will change from 200.0 to 'auto' in 1.2.\n",
      "  warnings.warn(\n"
     ]
    },
    {
     "data": {
      "text/plain": [
       "Text(0.5, 1.0, 'Test data')"
      ]
     },
     "execution_count": 8,
     "metadata": {},
     "output_type": "execute_result"
    },
    {
     "data": {
      "image/png": "[encoded data removed]",
      "text/plain": [
       "<Figure size 432x288 with 2 Axes>"
      ]
     },
     "metadata": {
      "needs_background": "light"
     },
     "output_type": "display_data"
    }
   ],
   "source": [
    "tsne = TSNE(n_components=2)\n",
    "model.eval()\n",
    "with torch.no_grad():\n",
    "    x_0, _ = model.layers(model.to_hidden_linear(dataset[\"x\"]))\n",
    "x_0_train = tsne.fit_transform(x_0[dataset[\"train_mask\"]])\n",
    "x_0_test = tsne.fit_transform(x_0[dataset[\"test_mask\"]])\n",
    "f, (ax1, ax2) = plt.subplots(1, 2)\n",
    "f.suptitle(\"Learned hidden representations of graph nodes\")\n",
    "ax1.scatter(x_0_train[:, 0], x_0_train[:, 1], c=dataset[\"y\"][dataset[\"train_mask\"]])\n",
    "ax1.set_title(\"Train data\")\n",
    "\n",
    "ax2.scatter(x_0_test[:, 0], x_0_test[:, 1], c=dataset[\"y\"][dataset[\"test_mask\"]])\n",
    "ax2.set_title(\"Test data\")"
   ]
  }
 ],
 "metadata": {
  "kernelspec": {
   "display_name": "Python 3 (ipykernel)",
   "language": "python",
   "name": "python3"
  },
  "language_info": {
   "codemirror_mode": {
    "name": "ipython",
    "version": 3
   },
   "file_extension": ".py",
   "mimetype": "text/x-python",
   "name": "python",
   "nbconvert_exporter": "python",
   "pygments_lexer": "ipython3",
   "version": "3.10.9"
  }
 },
 "nbformat": 4,
 "nbformat_minor": 4
}
