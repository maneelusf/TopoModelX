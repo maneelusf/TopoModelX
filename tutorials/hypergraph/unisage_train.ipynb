{
 "cells": [
  {
   "cell_type": "code",
   "execution_count": 1,
   "id": "babbfc35",
   "metadata": {},
   "outputs": [],
   "source": [
    "%load_ext autoreload\n",
    "%autoreload 2\n",
    "\n",
    "import torch\n",
    "import numpy as np\n",
    "from sklearn.model_selection import train_test_split\n",
    "from torch_geometric.datasets import TUDataset\n",
    "from torch_geometric.utils.convert import to_networkx\n",
    "from toponetx.classes.simplicial_complex import SimplicialComplex\n",
    "\n",
    "from topomodelx.nn.hypergraph.unisage import UniSAGE\n",
    "import warnings\n",
    "\n",
    "warnings.filterwarnings(\"ignore\")"
   ]
  },
  {
   "cell_type": "markdown",
   "id": "b7251cc4",
   "metadata": {},
   "source": [
    "# Train a Uni-sage TNN"
   ]
  },
  {
   "cell_type": "markdown",
   "id": "35742145",
   "metadata": {},
   "source": [
    "# Pre-processing\n",
    "\n",
    "## Import data ##\n",
    "\n",
    "The first step is to import the dataset, MUTAG, a benchmark dataset for graph classification. We then lift each graph into our domain of choice, a hypergraph.\n",
    "\n",
    "We will also retrieve:\n",
    "- input signal on the edges for each of these hypergraphs, as that will be what we feed the model in input\n",
    "- the binary label associated to the hypergraph"
   ]
  },
  {
   "cell_type": "code",
   "execution_count": 2,
   "id": "b9e6b0d0",
   "metadata": {},
   "outputs": [],
   "source": [
    "dataset = TUDataset(root=\"/tmp/MUTAG\", name=\"MUTAG\", use_edge_attr=True)\n",
    "dataset = dataset[:100]\n",
    "hg_list = []\n",
    "x_1_list = []\n",
    "y_list = []\n",
    "for graph in dataset:\n",
    "    hg = SimplicialComplex(to_networkx(graph)).to_hypergraph()\n",
    "    hg_list.append(hg)\n",
    "    x_1_list.append(graph.x)\n",
    "    y_list.append(int(graph.y))\n",
    "\n",
    "incidence_1_list = []\n",
    "for hg in hg_list:\n",
    "    incidence_1 = hg.incidence_matrix()\n",
    "    incidence_1 = torch.from_numpy(incidence_1.todense()).to_sparse_csr()\n",
    "    incidence_1_list.append(incidence_1)"
   ]
  },
  {
   "cell_type": "markdown",
   "id": "b8e0ce65",
   "metadata": {},
   "source": [
    "# Create the Neural Network\n",
    "\n",
    "Using the UniSAGELayer class, we create a neural network with stacked layers."
   ]
  },
  {
   "cell_type": "code",
   "execution_count": 5,
   "id": "4e133a18",
   "metadata": {},
   "outputs": [],
   "source": [
    "channels_edge = x_1_list[0].shape[1]\n",
    "channels_node = dataset[0].x.shape[1]\n",
    "model = UniSAGE(channels_edge, channels_node, n_layers=2)"
   ]
  },
  {
   "cell_type": "markdown",
   "id": "e8129a5f",
   "metadata": {},
   "source": [
    "# Train the Neural Network\n",
    "\n",
    "We specify the model, the loss, and an optimizer."
   ]
  },
  {
   "cell_type": "code",
   "execution_count": 6,
   "id": "89ae1cce",
   "metadata": {},
   "outputs": [],
   "source": [
    "optimizer = torch.optim.Adam(model.parameters(), lr=1e-2)\n",
    "crit = torch.nn.BCELoss()"
   ]
  },
  {
   "cell_type": "markdown",
   "id": "d8b51d10",
   "metadata": {},
   "source": [
    "Split the dataset into train, val, and test sets."
   ]
  },
  {
   "cell_type": "code",
   "execution_count": 7,
   "id": "1973b46e",
   "metadata": {},
   "outputs": [],
   "source": [
    "x_1_train, x_1_test = train_test_split(x_1_list, test_size=0.2, shuffle=False)\n",
    "incidence_1_train, incidence_1_test = train_test_split(\n",
    "    incidence_1_list, test_size=0.2, shuffle=False\n",
    ")\n",
    "y_train, y_test = train_test_split(y_list, test_size=0.2, shuffle=False)\n",
    "\n",
    "x_1_train, x_1_val = train_test_split(x_1_train, test_size=0.2, shuffle=False)\n",
    "incidence_1_train, incidence_1_val = train_test_split(\n",
    "    incidence_1_train, test_size=0.2, shuffle=False\n",
    ")\n",
    "y_train, y_val = train_test_split(y_train, test_size=0.2, shuffle=False)"
   ]
  },
  {
   "cell_type": "markdown",
   "id": "de215a24",
   "metadata": {},
   "source": [
    "The following cell performs the training, looping over the network for a low amount of epochs. We keep training minimal for the purpose of rapid testing."
   ]
  },
  {
   "cell_type": "code",
   "execution_count": 8,
   "id": "3b1397b5",
   "metadata": {},
   "outputs": [
    {
     "name": "stdout",
     "output_type": "stream",
     "text": [
      "Epoch 0 loss: 39.34788131713867\n",
      "Epoch 0 Validation accuracy: 0.5625\n",
      "Epoch 1 loss: 36.56438064575195\n",
      "Epoch 1 Validation accuracy: 0.5625\n",
      "Epoch 2 loss: 35.202720642089844\n",
      "Epoch 2 Validation accuracy: 0.5625\n",
      "Epoch 3 loss: 34.88933563232422\n",
      "Epoch 3 Validation accuracy: 0.5625\n",
      "Epoch 4 loss: 35.11338806152344\n",
      "Epoch 4 Validation accuracy: 0.5625\n",
      "Epoch 5 loss: 35.31168746948242\n",
      "Epoch 5 Validation accuracy: 0.5625\n",
      "Epoch 6 loss: 35.21942138671875\n",
      "Epoch 6 Validation accuracy: 0.5625\n",
      "Epoch 7 loss: 34.87921142578125\n",
      "Epoch 7 Validation accuracy: 0.5625\n",
      "Epoch 8 loss: 34.44466018676758\n",
      "Epoch 8 Validation accuracy: 0.5625\n",
      "Epoch 9 loss: 34.02956771850586\n",
      "Epoch 9 Validation accuracy: 0.5625\n",
      "Epoch 10 loss: 33.72739791870117\n",
      "Epoch 10 Validation accuracy: 0.5625\n",
      "Epoch 11 loss: 33.54963684082031\n",
      "Epoch 11 Validation accuracy: 0.5625\n",
      "Epoch 12 loss: 33.45979690551758\n",
      "Epoch 12 Validation accuracy: 0.5625\n",
      "Epoch 13 loss: 33.397918701171875\n",
      "Epoch 13 Validation accuracy: 0.5625\n",
      "Epoch 14 loss: 33.30390930175781\n",
      "Epoch 14 Validation accuracy: 0.5625\n",
      "Epoch 15 loss: 33.145198822021484\n",
      "Epoch 15 Validation accuracy: 0.5625\n",
      "Epoch 16 loss: 32.937747955322266\n",
      "Epoch 16 Validation accuracy: 0.5625\n",
      "Epoch 17 loss: 32.719783782958984\n",
      "Epoch 17 Validation accuracy: 0.5625\n",
      "Epoch 18 loss: 32.54194641113281\n",
      "Epoch 18 Validation accuracy: 0.5625\n",
      "Epoch 19 loss: 32.435874938964844\n",
      "Epoch 19 Validation accuracy: 0.5625\n",
      "Epoch 20 loss: 32.383544921875\n",
      "Epoch 20 Validation accuracy: 0.5625\n",
      "Epoch 21 loss: 32.355735778808594\n",
      "Epoch 21 Validation accuracy: 0.5625\n",
      "Epoch 22 loss: 32.35376739501953\n",
      "Epoch 22 Validation accuracy: 0.5625\n",
      "Epoch 23 loss: 32.28812026977539\n",
      "Epoch 23 Validation accuracy: 0.5625\n",
      "Epoch 24 loss: 32.19291305541992\n",
      "Epoch 24 Validation accuracy: 0.5625\n",
      "Epoch 25 loss: 32.12076187133789\n",
      "Epoch 25 Validation accuracy: 0.5625\n",
      "Epoch 26 loss: 32.09857177734375\n",
      "Epoch 26 Validation accuracy: 0.5625\n",
      "Epoch 27 loss: 32.10384750366211\n",
      "Epoch 27 Validation accuracy: 0.5625\n",
      "Epoch 28 loss: 32.09075927734375\n",
      "Epoch 28 Validation accuracy: 0.5625\n",
      "Epoch 29 loss: 32.035884857177734\n",
      "Epoch 29 Validation accuracy: 0.5625\n",
      "Epoch 30 loss: 31.961538314819336\n",
      "Epoch 30 Validation accuracy: 0.5625\n",
      "Epoch 31 loss: 31.905723571777344\n",
      "Epoch 31 Validation accuracy: 0.5625\n",
      "Epoch 32 loss: 31.879724502563477\n",
      "Epoch 32 Validation accuracy: 0.5625\n",
      "Epoch 33 loss: 31.849782943725586\n",
      "Epoch 33 Validation accuracy: 0.5625\n",
      "Epoch 34 loss: 31.78626823425293\n",
      "Epoch 34 Validation accuracy: 0.5625\n",
      "Epoch 35 loss: 31.707439422607422\n",
      "Epoch 35 Validation accuracy: 0.5625\n",
      "Epoch 36 loss: 31.654878616333008\n",
      "Epoch 36 Validation accuracy: 0.5625\n",
      "Epoch 37 loss: 31.6192684173584\n",
      "Epoch 37 Validation accuracy: 0.5625\n",
      "Epoch 38 loss: 31.56588363647461\n",
      "Epoch 38 Validation accuracy: 0.5625\n",
      "Epoch 39 loss: 31.48307991027832\n",
      "Epoch 39 Validation accuracy: 0.5625\n",
      "Epoch 40 loss: 31.395729064941406\n",
      "Epoch 40 Validation accuracy: 0.5625\n",
      "Epoch 41 loss: 31.319866180419922\n",
      "Epoch 41 Validation accuracy: 0.5625\n",
      "Epoch 42 loss: 31.239242553710938\n",
      "Epoch 42 Validation accuracy: 0.5625\n",
      "Epoch 43 loss: 31.139421463012695\n",
      "Epoch 43 Validation accuracy: 0.5625\n",
      "Epoch 44 loss: 31.031633377075195\n",
      "Epoch 44 Validation accuracy: 0.5625\n",
      "Epoch 45 loss: 30.931699752807617\n",
      "Epoch 45 Validation accuracy: 0.5625\n",
      "Epoch 46 loss: 30.828857421875\n",
      "Epoch 46 Validation accuracy: 0.5625\n",
      "Epoch 47 loss: 30.705881118774414\n",
      "Epoch 47 Validation accuracy: 0.5625\n",
      "Epoch 48 loss: 30.58014678955078\n",
      "Epoch 48 Validation accuracy: 0.5625\n",
      "Epoch 49 loss: 30.467330932617188\n",
      "Epoch 49 Validation accuracy: 0.5625\n",
      "Test accuracy: 0.75\n"
     ]
    }
   ],
   "source": [
    "num_epochs = 50\n",
    "for epoch in range(num_epochs):\n",
    "    model.train()\n",
    "    optimizer.zero_grad()\n",
    "    loss = 0\n",
    "    for x_1, incidence_1, y in zip(x_1_train, incidence_1_train, y_train):\n",
    "        output = model(x_1, incidence_1)\n",
    "        loss += crit(output, torch.tensor([y]).float())\n",
    "    loss.backward()\n",
    "    optimizer.step()\n",
    "    print(f\"Epoch {epoch} loss: {loss.item()}\")\n",
    "    model.eval()\n",
    "    with torch.no_grad():\n",
    "        correct = 0\n",
    "        for x_1, incidence_1, y in zip(x_1_val, incidence_1_val, y_val):\n",
    "            output = model(x_1, incidence_1)\n",
    "            pred = output > 0.5\n",
    "            if pred == y:\n",
    "                correct += 1\n",
    "        print(f\"Epoch {epoch} Validation accuracy: {correct / len(y_val)}\")\n",
    "\n",
    "model.eval()\n",
    "with torch.no_grad():\n",
    "    correct = 0\n",
    "    for x_1, incidence_1, y in zip(x_1_test, incidence_1_test, y_test):\n",
    "        output = model(x_1, incidence_1)\n",
    "        pred = output > 0.5\n",
    "        if pred == y:\n",
    "            correct += 1\n",
    "    print(f\"Test accuracy: {correct / len(y_test)}\")"
   ]
  },
  {
   "cell_type": "code",
   "execution_count": null,
   "id": "b1abff97",
   "metadata": {},
   "outputs": [],
   "source": []
  }
 ],
 "metadata": {
  "kernelspec": {
   "display_name": "Python 3 (ipykernel)",
   "language": "python",
   "name": "python3"
  },
  "language_info": {
   "codemirror_mode": {
    "name": "ipython",
    "version": 3
   },
   "file_extension": ".py",
   "mimetype": "text/x-python",
   "name": "python",
   "nbconvert_exporter": "python",
   "pygments_lexer": "ipython3",
   "version": "3.11.3"
  }
 },
 "nbformat": 4,
 "nbformat_minor": 5
}
