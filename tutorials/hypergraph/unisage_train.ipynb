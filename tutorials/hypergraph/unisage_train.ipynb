{
 "cells": [
  {
   "cell_type": "code",
   "execution_count": 2,
   "id": "babbfc35",
   "metadata": {},
   "outputs": [
    {
     "name": "stdout",
     "output_type": "stream",
     "text": [
      "The autoreload extension is already loaded. To reload it, use:\n",
      "  %reload_ext autoreload\n"
     ]
    }
   ],
   "source": [
    "%load_ext autoreload\n",
    "%autoreload 2\n",
    "\n",
    "import torch\n",
    "import numpy as np\n",
    "from sklearn.model_selection import train_test_split\n",
    "from torch_geometric.datasets import TUDataset\n",
    "from torch_geometric.utils.convert import to_networkx\n",
    "from toponetx.classes.simplicial_complex import SimplicialComplex\n",
    "from topomodelx.nn.hypergraph.unisage_layer import UniSAGELayer\n",
    "from topomodelx.nn.hypergraph.unisage import UniSAGE\n",
    "\n",
    "import warnings\n",
    "\n",
    "warnings.filterwarnings(\"ignore\")"
   ]
  },
  {
   "cell_type": "markdown",
   "id": "b7251cc4",
   "metadata": {},
   "source": [
    "# Train a Uni-sage TNN"
   ]
  },
  {
   "cell_type": "markdown",
   "id": "35742145",
   "metadata": {},
   "source": [
    "# Pre-processing\n",
    "\n",
    "## Import data ##\n",
    "\n",
    "The first step is to import the dataset, MUTAG, a benchmark dataset for graph classification. We then lift each graph into our domain of choice, a hypergraph.\n",
    "\n",
    "We will also retrieve:\n",
    "- input signal on the edges for each of these hypergraphs, as that will be what we feed the model in input\n",
    "- the binary label associated to the hypergraph"
   ]
  },
  {
   "cell_type": "code",
   "execution_count": 3,
   "id": "b9e6b0d0",
   "metadata": {},
   "outputs": [
    {
     "name": "stderr",
     "output_type": "stream",
     "text": [
      "Downloading https://www.chrsmrrs.com/graphkerneldatasets/MUTAG.zip\n",
      "Extracting /tmp/MUTAG/MUTAG/MUTAG.zip\n",
      "Processing...\n",
      "Done!\n"
     ]
    }
   ],
   "source": [
    "dataset = TUDataset(root=\"/tmp/MUTAG\", name=\"MUTAG\", use_edge_attr=True)\n",
    "dataset = dataset[:100]\n",
    "hg_list = []\n",
    "x_1_list = []\n",
    "y_list = []\n",
    "for graph in dataset:\n",
    "    hg = SimplicialComplex(to_networkx(graph)).to_hypergraph()\n",
    "    hg_list.append(hg)\n",
    "    x_1_list.append(graph.x)\n",
    "    y_list.append(int(graph.y))\n",
    "\n",
    "incidence_1_list = []\n",
    "for hg in hg_list:\n",
    "    incidence_1 = hg.incidence_matrix()\n",
    "    incidence_1 = torch.from_numpy(incidence_1.todense()).to_sparse_csr()\n",
    "    incidence_1_list.append(incidence_1)"
   ]
  },
  {
   "cell_type": "markdown",
   "id": "b8e0ce65",
   "metadata": {},
   "source": [
    "# Create the Neural Network\n",
    "\n",
    "Using the UniSAGELayer class, we create a neural network with stacked layers."
   ]
  },
  {
   "cell_type": "code",
   "execution_count": 3,
   "id": "4e133a18",
   "metadata": {},
   "outputs": [],
   "source": [
    "channels_edge = x_1_list[0].shape[1]\n",
    "channels_node = dataset[0].x.shape[1]"
   ]
  },
  {
   "cell_type": "code",
   "execution_count": 4,
   "id": "14b4bf27",
   "metadata": {},
   "outputs": [],
   "source": []
  },
  {
   "cell_type": "markdown",
   "id": "e8129a5f",
   "metadata": {},
   "source": [
    "# Train the Neural Network\n",
    "\n",
    "We specify the model, the loss, and an optimizer."
   ]
  },
  {
   "cell_type": "code",
   "execution_count": 5,
   "id": "89ae1cce",
   "metadata": {},
   "outputs": [],
   "source": [
    "model = UniSAGE(channels_edge, channels_node, n_layers=2)\n",
    "optimizer = torch.optim.Adam(model.parameters(), lr=1e-2)\n",
    "crit = torch.nn.BCELoss()"
   ]
  },
  {
   "cell_type": "markdown",
   "id": "d8b51d10",
   "metadata": {},
   "source": [
    "Split the dataset into train, val, and test sets."
   ]
  },
  {
   "cell_type": "code",
   "execution_count": 6,
   "id": "1973b46e",
   "metadata": {},
   "outputs": [],
   "source": [
    "x_1_train, x_1_test = train_test_split(x_1_list, test_size=0.2, shuffle=False)\n",
    "incidence_1_train, incidence_1_test = train_test_split(\n",
    "    incidence_1_list, test_size=0.2, shuffle=False\n",
    ")\n",
    "y_train, y_test = train_test_split(y_list, test_size=0.2, shuffle=False)\n",
    "\n",
    "x_1_train, x_1_val = train_test_split(x_1_train, test_size=0.2, shuffle=False)\n",
    "incidence_1_train, incidence_1_val = train_test_split(\n",
    "    incidence_1_train, test_size=0.2, shuffle=False\n",
    ")\n",
    "y_train, y_val = train_test_split(y_train, test_size=0.2, shuffle=False)"
   ]
  },
  {
   "cell_type": "markdown",
   "id": "de215a24",
   "metadata": {},
   "source": [
    "The following cell performs the training, looping over the network for a low amount of epochs. We keep training minimal for the purpose of rapid testing."
   ]
  },
  {
   "cell_type": "code",
   "execution_count": 7,
   "id": "3b1397b5",
   "metadata": {},
   "outputs": [
    {
     "name": "stdout",
     "output_type": "stream",
     "text": [
      "Epoch 0 loss: 35.38711929321289\n",
      "Epoch 0 Validation accuracy: 0.5625\n",
      "Epoch 1 loss: 35.50642013549805\n",
      "Epoch 1 Validation accuracy: 0.5625\n",
      "Epoch 2 loss: 34.88081741333008\n",
      "Epoch 2 Validation accuracy: 0.5625\n",
      "Epoch 3 loss: 34.313419342041016\n",
      "Epoch 3 Validation accuracy: 0.5625\n",
      "Epoch 4 loss: 34.208885192871094\n",
      "Epoch 4 Validation accuracy: 0.5625\n",
      "Epoch 5 loss: 34.00963592529297\n",
      "Epoch 5 Validation accuracy: 0.5625\n",
      "Epoch 6 loss: 33.59610366821289\n",
      "Epoch 6 Validation accuracy: 0.5625\n",
      "Epoch 7 loss: 33.292537689208984\n",
      "Epoch 7 Validation accuracy: 0.5625\n",
      "Epoch 8 loss: 33.19595718383789\n",
      "Epoch 8 Validation accuracy: 0.5625\n",
      "Epoch 9 loss: 33.106815338134766\n",
      "Epoch 9 Validation accuracy: 0.5625\n",
      "Epoch 10 loss: 32.913330078125\n",
      "Epoch 10 Validation accuracy: 0.5625\n",
      "Epoch 11 loss: 32.710723876953125\n",
      "Epoch 11 Validation accuracy: 0.5625\n",
      "Epoch 12 loss: 32.6346549987793\n",
      "Epoch 12 Validation accuracy: 0.5625\n",
      "Epoch 13 loss: 32.63870620727539\n",
      "Epoch 13 Validation accuracy: 0.5625\n",
      "Epoch 14 loss: 32.57096481323242\n",
      "Epoch 14 Validation accuracy: 0.5625\n",
      "Epoch 15 loss: 32.44948196411133\n",
      "Epoch 15 Validation accuracy: 0.5625\n",
      "Epoch 16 loss: 32.391658782958984\n",
      "Epoch 16 Validation accuracy: 0.5625\n",
      "Epoch 17 loss: 32.39373779296875\n",
      "Epoch 17 Validation accuracy: 0.5625\n",
      "Epoch 18 loss: 32.34821319580078\n",
      "Epoch 18 Validation accuracy: 0.5625\n",
      "Epoch 19 loss: 32.241302490234375\n",
      "Epoch 19 Validation accuracy: 0.5625\n",
      "Epoch 20 loss: 32.159812927246094\n",
      "Epoch 20 Validation accuracy: 0.5625\n",
      "Epoch 21 loss: 32.131492614746094\n",
      "Epoch 21 Validation accuracy: 0.5625\n",
      "Epoch 22 loss: 32.08507537841797\n",
      "Epoch 22 Validation accuracy: 0.5625\n",
      "Epoch 23 loss: 31.99526023864746\n",
      "Epoch 23 Validation accuracy: 0.5625\n",
      "Epoch 24 loss: 31.924638748168945\n",
      "Epoch 24 Validation accuracy: 0.5625\n",
      "Epoch 25 loss: 31.894010543823242\n",
      "Epoch 25 Validation accuracy: 0.5625\n",
      "Epoch 26 loss: 31.868173599243164\n",
      "Epoch 26 Validation accuracy: 0.5625\n",
      "Epoch 27 loss: 31.829978942871094\n",
      "Epoch 27 Validation accuracy: 0.5625\n",
      "Epoch 28 loss: 31.808109283447266\n",
      "Epoch 28 Validation accuracy: 0.5625\n",
      "Epoch 29 loss: 31.807811737060547\n",
      "Epoch 29 Validation accuracy: 0.5625\n",
      "Epoch 30 loss: 31.785655975341797\n",
      "Epoch 30 Validation accuracy: 0.5625\n",
      "Epoch 31 loss: 31.746475219726562\n",
      "Epoch 31 Validation accuracy: 0.5625\n",
      "Epoch 32 loss: 31.724843978881836\n",
      "Epoch 32 Validation accuracy: 0.5625\n",
      "Epoch 33 loss: 31.700727462768555\n",
      "Epoch 33 Validation accuracy: 0.5625\n",
      "Epoch 34 loss: 31.660417556762695\n",
      "Epoch 34 Validation accuracy: 0.5625\n",
      "Epoch 35 loss: 31.624387741088867\n",
      "Epoch 35 Validation accuracy: 0.5625\n",
      "Epoch 36 loss: 31.606855392456055\n",
      "Epoch 36 Validation accuracy: 0.5625\n",
      "Epoch 37 loss: 31.585779190063477\n",
      "Epoch 37 Validation accuracy: 0.5625\n",
      "Epoch 38 loss: 31.568805694580078\n",
      "Epoch 38 Validation accuracy: 0.5625\n",
      "Epoch 39 loss: 31.556062698364258\n",
      "Epoch 39 Validation accuracy: 0.5625\n",
      "Epoch 40 loss: 31.53620147705078\n",
      "Epoch 40 Validation accuracy: 0.5625\n",
      "Epoch 41 loss: 31.51841163635254\n",
      "Epoch 41 Validation accuracy: 0.5625\n",
      "Epoch 42 loss: 31.507102966308594\n",
      "Epoch 42 Validation accuracy: 0.5625\n",
      "Epoch 43 loss: 31.491756439208984\n",
      "Epoch 43 Validation accuracy: 0.5625\n",
      "Epoch 44 loss: 31.478620529174805\n",
      "Epoch 44 Validation accuracy: 0.5625\n",
      "Epoch 45 loss: 31.475711822509766\n",
      "Epoch 45 Validation accuracy: 0.5625\n",
      "Epoch 46 loss: 31.467418670654297\n",
      "Epoch 46 Validation accuracy: 0.5625\n",
      "Epoch 47 loss: 31.449710845947266\n",
      "Epoch 47 Validation accuracy: 0.5625\n",
      "Epoch 48 loss: 31.429576873779297\n",
      "Epoch 48 Validation accuracy: 0.5625\n",
      "Epoch 49 loss: 31.42317771911621\n",
      "Epoch 49 Validation accuracy: 0.5625\n",
      "Test accuracy: 0.75\n"
     ]
    }
   ],
   "source": [
    "num_epochs = 50\n",
    "for epoch in range(num_epochs):\n",
    "    model.train()\n",
    "    optimizer.zero_grad()\n",
    "    loss = 0\n",
    "    for x_1, incidence_1, y in zip(x_1_train, incidence_1_train, y_train):\n",
    "        output = model(x_1, incidence_1)\n",
    "        loss += crit(output, torch.tensor([y]).float())\n",
    "    loss.backward()\n",
    "    optimizer.step()\n",
    "    print(f\"Epoch {epoch} loss: {loss.item()}\")\n",
    "    model.eval()\n",
    "    with torch.no_grad():\n",
    "        correct = 0\n",
    "        for x_1, incidence_1, y in zip(x_1_val, incidence_1_val, y_val):\n",
    "            output = model(x_1, incidence_1)\n",
    "            pred = output > 0.5\n",
    "            if pred == y:\n",
    "                correct += 1\n",
    "        print(f\"Epoch {epoch} Validation accuracy: {correct / len(y_val)}\")\n",
    "\n",
    "model.eval()\n",
    "with torch.no_grad():\n",
    "    correct = 0\n",
    "    for x_1, incidence_1, y in zip(x_1_test, incidence_1_test, y_test):\n",
    "        output = model(x_1, incidence_1)\n",
    "        pred = output > 0.5\n",
    "        if pred == y:\n",
    "            correct += 1\n",
    "    print(f\"Test accuracy: {correct / len(y_test)}\")"
   ]
  }
 ],
 "metadata": {
  "kernelspec": {
   "display_name": "Python 3 (ipykernel)",
   "language": "python",
   "name": "python3"
  },
  "language_info": {
   "codemirror_mode": {
    "name": "ipython",
    "version": 3
   },
   "file_extension": ".py",
   "mimetype": "text/x-python",
   "name": "python",
   "nbconvert_exporter": "python",
   "pygments_lexer": "ipython3",
   "version": "3.10.9"
  }
 },
 "nbformat": 4,
 "nbformat_minor": 5
}
